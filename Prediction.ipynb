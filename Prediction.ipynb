{
 "cells": [
  {
   "cell_type": "markdown",
   "metadata": {},
   "source": [
    "## Practical Machine Learning-Prediction Assignment Submission\n"
   ]
  },
  {
   "cell_type": "markdown",
   "metadata": {},
   "source": [
    "### Rajesh Singh\n",
    "October 12th 2017"
   ]
  },
  {
   "cell_type": "markdown",
   "metadata": {},
   "source": [
    "## Background"
   ]
  },
  {
   "cell_type": "markdown",
   "metadata": {},
   "source": [
    "Using devices such as Jawbone Up, Nike FuelBand, and Fitbit it is now possible to collect a large amount of data about personal activity relatively inexpensively. These type of devices are part of the quantified self movement – a group of enthusiasts who take measurements about themselves regularly to improve their health, to find patterns in their behavior, or because they are tech geeks. One thing that people regularly do is quantify how much of a particular activity they do, but they rarely quantify how well they do it. In this project, your goal will be to use data from accelerometers on the belt, forearm, arm, and dumbell of 6 participants. They were asked to perform barbell lifts correctly and incorrectly in 5 different ways. More information is available from the website here: http://web.archive.org/web/20161224072740/http:/groupware.les.inf.puc-rio.br/har (see the section on the Weight Lifting Exercise Dataset)."
   ]
  },
  {
   "cell_type": "markdown",
   "metadata": {},
   "source": [
    "## Data"
   ]
  },
  {
   "cell_type": "markdown",
   "metadata": {},
   "source": [
    "The training data for this project are available here:\n",
    "\n",
    "https://d396qusza40orc.cloudfront.net/predmachlearn/pml-training.csv\n",
    "\n",
    "The test data are available here:\n",
    "\n",
    "https://d396qusza40orc.cloudfront.net/predmachlearn/pml-testing.csv\n",
    "\n",
    "The data for this project come from this source: http://web.archive.org/web/20161224072740/http:/groupware.les.inf.puc-rio.br/har. If you use the document you create for this class for any purpose please cite them as they have been very generous in allowing their data to be used for this kind of assignment."
   ]
  },
  {
   "cell_type": "markdown",
   "metadata": {},
   "source": [
    "## Goal "
   ]
  },
  {
   "cell_type": "markdown",
   "metadata": {},
   "source": [
    "The goal of your project is to predict the manner in which they did the exercise. This is the \"classe\" variable in the training set. You may use any of the other variables to predict with. You should create a report describing how you built your model, how you used cross validation, what you think the expected out of sample error is, and why you made the choices you did. You will also use your prediction model to predict 20 different test cases."
   ]
  },
  {
   "cell_type": "code",
   "execution_count": 1,
   "metadata": {},
   "outputs": [],
   "source": [
    "### Training data set can be found on the following URL:\n",
    "\n",
    "trainURL <- \"https://d396qusza40orc.cloudfront.net/predmachlearn/pml-training.csv\""
   ]
  },
  {
   "cell_type": "code",
   "execution_count": 2,
   "metadata": {},
   "outputs": [],
   "source": [
    "### Testing data set can be found on the following URL:\n",
    "\n",
    "testURL <- \"https://d396qusza40orc.cloudfront.net/predmachlearn/pml-testing.csv\""
   ]
  },
  {
   "cell_type": "markdown",
   "metadata": {},
   "source": [
    "### Loading the data\n"
   ]
  },
  {
   "cell_type": "code",
   "execution_count": 3,
   "metadata": {},
   "outputs": [],
   "source": [
    "training <- read.csv(url(trainURL))\n",
    "testing <- read.csv(url(testURL))"
   ]
  },
  {
   "cell_type": "markdown",
   "metadata": {},
   "source": [
    "### Glance of DataSet"
   ]
  },
  {
   "cell_type": "code",
   "execution_count": 4,
   "metadata": {},
   "outputs": [
    {
     "name": "stdout",
     "output_type": "stream",
     "text": [
      "'data.frame':\t19622 obs. of  160 variables:\n",
      " $ X                       : int  1 2 3 4 5 6 7 8 9 10 ...\n",
      " $ user_name               : Factor w/ 6 levels \"adelmo\",\"carlitos\",..: 2 2 2 2 2 2 2 2 2 2 ...\n",
      " $ raw_timestamp_part_1    : int  1323084231 1323084231 1323084231 1323084232 1323084232 1323084232 1323084232 1323084232 1323084232 1323084232 ...\n",
      " $ raw_timestamp_part_2    : int  788290 808298 820366 120339 196328 304277 368296 440390 484323 484434 ...\n",
      " $ cvtd_timestamp          : Factor w/ 20 levels \"02/12/2011 13:32\",..: 9 9 9 9 9 9 9 9 9 9 ...\n",
      " $ new_window              : Factor w/ 2 levels \"no\",\"yes\": 1 1 1 1 1 1 1 1 1 1 ...\n",
      " $ num_window              : int  11 11 11 12 12 12 12 12 12 12 ...\n",
      " $ roll_belt               : num  1.41 1.41 1.42 1.48 1.48 1.45 1.42 1.42 1.43 1.45 ...\n",
      " $ pitch_belt              : num  8.07 8.07 8.07 8.05 8.07 8.06 8.09 8.13 8.16 8.17 ...\n",
      " $ yaw_belt                : num  -94.4 -94.4 -94.4 -94.4 -94.4 -94.4 -94.4 -94.4 -94.4 -94.4 ...\n",
      " $ total_accel_belt        : int  3 3 3 3 3 3 3 3 3 3 ...\n",
      " $ kurtosis_roll_belt      : Factor w/ 397 levels \"\",\"-0.016850\",..: 1 1 1 1 1 1 1 1 1 1 ...\n",
      " $ kurtosis_picth_belt     : Factor w/ 317 levels \"\",\"-0.021887\",..: 1 1 1 1 1 1 1 1 1 1 ...\n",
      " $ kurtosis_yaw_belt       : Factor w/ 2 levels \"\",\"#DIV/0!\": 1 1 1 1 1 1 1 1 1 1 ...\n",
      " $ skewness_roll_belt      : Factor w/ 395 levels \"\",\"-0.003095\",..: 1 1 1 1 1 1 1 1 1 1 ...\n",
      "  [list output truncated]\n"
     ]
    }
   ],
   "source": [
    "str(training, list.len= 15)\n"
   ]
  },
  {
   "cell_type": "code",
   "execution_count": 5,
   "metadata": {},
   "outputs": [
    {
     "data": {
      "text/plain": [
       "\n",
       "   A    B    C    D    E \n",
       "5580 3797 3422 3216 3607 "
      ]
     },
     "metadata": {},
     "output_type": "display_data"
    }
   ],
   "source": [
    "table(training$classe)\n"
   ]
  },
  {
   "cell_type": "code",
   "execution_count": 6,
   "metadata": {},
   "outputs": [
    {
     "data": {
      "text/plain": [
       "          \n",
       "                   A         B         C         D         E\n",
       "  adelmo   0.2993320 0.1993834 0.1927030 0.1323227 0.1762590\n",
       "  carlitos 0.2679949 0.2217224 0.1584190 0.1561697 0.1956941\n",
       "  charles  0.2542421 0.2106900 0.1524321 0.1815611 0.2010747\n",
       "  eurico   0.2817590 0.1928339 0.1592834 0.1895765 0.1765472\n",
       "  jeremy   0.3459730 0.1437390 0.1916520 0.1534392 0.1651969\n",
       "  pedro    0.2452107 0.1934866 0.1911877 0.1796935 0.1904215"
      ]
     },
     "metadata": {},
     "output_type": "display_data"
    }
   ],
   "source": [
    "prop.table(table(training$user_name, training$classe), 1)\n"
   ]
  },
  {
   "cell_type": "code",
   "execution_count": 7,
   "metadata": {},
   "outputs": [
    {
     "data": {
      "text/plain": [
       "\n",
       "        A         B         C         D         E \n",
       "0.2843747 0.1935073 0.1743961 0.1638977 0.1838243 "
      ]
     },
     "metadata": {},
     "output_type": "display_data"
    }
   ],
   "source": [
    "prop.table(table(training$classe))\n"
   ]
  },
  {
   "cell_type": "markdown",
   "metadata": {},
   "source": [
    "### Splitting training sets into test and validation sets\n",
    "\n",
    "We will divide 70% of set for training purposes(actual model building), while 30% remainder will be used only for testing"
   ]
  },
  {
   "cell_type": "code",
   "execution_count": 8,
   "metadata": {},
   "outputs": [
    {
     "name": "stderr",
     "output_type": "stream",
     "text": [
      "Loading required package: lattice\n",
      "Loading required package: ggplot2\n"
     ]
    }
   ],
   "source": [
    "library(caret)\n"
   ]
  },
  {
   "cell_type": "code",
   "execution_count": 9,
   "metadata": {},
   "outputs": [
    {
     "data": {
      "text/html": [
       "<ol class=list-inline>\n",
       "\t<li>13737</li>\n",
       "\t<li>160</li>\n",
       "</ol>\n"
      ],
      "text/latex": [
       "\\begin{enumerate*}\n",
       "\\item 13737\n",
       "\\item 160\n",
       "\\end{enumerate*}\n"
      ],
      "text/markdown": [
       "1. 13737\n",
       "2. 160\n",
       "\n",
       "\n"
      ],
      "text/plain": [
       "[1] 13737   160"
      ]
     },
     "metadata": {},
     "output_type": "display_data"
    }
   ],
   "source": [
    "set.seed(12345)\n",
    "inTrain <- createDataPartition(y=training$classe, p= 0.70, list=FALSE)\n",
    "train1 <- training[inTrain,]\n",
    "test1 <- training[-inTrain,]\n",
    "dim(train1)"
   ]
  },
  {
   "cell_type": "code",
   "execution_count": 10,
   "metadata": {},
   "outputs": [
    {
     "data": {
      "text/html": [
       "<ol class=list-inline>\n",
       "\t<li>5885</li>\n",
       "\t<li>160</li>\n",
       "</ol>\n"
      ],
      "text/latex": [
       "\\begin{enumerate*}\n",
       "\\item 5885\n",
       "\\item 160\n",
       "\\end{enumerate*}\n"
      ],
      "text/markdown": [
       "1. 5885\n",
       "2. 160\n",
       "\n",
       "\n"
      ],
      "text/plain": [
       "[1] 5885  160"
      ]
     },
     "metadata": {},
     "output_type": "display_data"
    }
   ],
   "source": [
    "dim(test1)"
   ]
  },
  {
   "cell_type": "markdown",
   "metadata": {},
   "source": [
    "-->The training data set (train1) contains 13737 observations or about 70% of entire training data set. \n",
    "-->The training data set (train2) contains 5885 or about 30% of the entire training data set. \n",
    "-->Both created datasets have 160 variables. Those variables have plenty of NA, that can be removed with cleaning procedures below. "
   ]
  },
  {
   "cell_type": "markdown",
   "metadata": {},
   "source": [
    "### Cleaning the data\n",
    "\n",
    "Remove variables with Nearly Zero Variance & mostly NA\n",
    "\n"
   ]
  },
  {
   "cell_type": "code",
   "execution_count": 11,
   "metadata": {},
   "outputs": [
    {
     "data": {
      "text/html": [
       "<ol class=list-inline>\n",
       "\t<li>13737</li>\n",
       "\t<li>106</li>\n",
       "</ol>\n"
      ],
      "text/latex": [
       "\\begin{enumerate*}\n",
       "\\item 13737\n",
       "\\item 106\n",
       "\\end{enumerate*}\n"
      ],
      "text/markdown": [
       "1. 13737\n",
       "2. 106\n",
       "\n",
       "\n"
      ],
      "text/plain": [
       "[1] 13737   106"
      ]
     },
     "metadata": {},
     "output_type": "display_data"
    }
   ],
   "source": [
    "NZV <- nearZeroVar(train1)\n",
    "train1 <- train1[, -NZV]\n",
    "test1  <- test1[, -NZV]\n",
    "dim(train1)"
   ]
  },
  {
   "cell_type": "code",
   "execution_count": 12,
   "metadata": {},
   "outputs": [
    {
     "data": {
      "text/html": [
       "<ol class=list-inline>\n",
       "\t<li>5885</li>\n",
       "\t<li>106</li>\n",
       "</ol>\n"
      ],
      "text/latex": [
       "\\begin{enumerate*}\n",
       "\\item 5885\n",
       "\\item 106\n",
       "\\end{enumerate*}\n"
      ],
      "text/markdown": [
       "1. 5885\n",
       "2. 106\n",
       "\n",
       "\n"
      ],
      "text/plain": [
       "[1] 5885  106"
      ]
     },
     "metadata": {},
     "output_type": "display_data"
    }
   ],
   "source": [
    "dim(test1)"
   ]
  },
  {
   "cell_type": "code",
   "execution_count": 13,
   "metadata": {},
   "outputs": [
    {
     "data": {
      "text/html": [
       "<ol class=list-inline>\n",
       "\t<li>13737</li>\n",
       "\t<li>59</li>\n",
       "</ol>\n"
      ],
      "text/latex": [
       "\\begin{enumerate*}\n",
       "\\item 13737\n",
       "\\item 59\n",
       "\\end{enumerate*}\n"
      ],
      "text/markdown": [
       "1. 13737\n",
       "2. 59\n",
       "\n",
       "\n"
      ],
      "text/plain": [
       "[1] 13737    59"
      ]
     },
     "metadata": {},
     "output_type": "display_data"
    }
   ],
   "source": [
    "AllNA    <- sapply(train1, function(x) mean(is.na(x))) > 0.95\n",
    "train1 <- train1[, AllNA==FALSE]\n",
    "test1  <- test1[, AllNA==FALSE]\n",
    "dim(train1)"
   ]
  },
  {
   "cell_type": "code",
   "execution_count": 14,
   "metadata": {},
   "outputs": [
    {
     "data": {
      "text/html": [
       "<ol class=list-inline>\n",
       "\t<li>5885</li>\n",
       "\t<li>59</li>\n",
       "</ol>\n"
      ],
      "text/latex": [
       "\\begin{enumerate*}\n",
       "\\item 5885\n",
       "\\item 59\n",
       "\\end{enumerate*}\n"
      ],
      "text/markdown": [
       "1. 5885\n",
       "2. 59\n",
       "\n",
       "\n"
      ],
      "text/plain": [
       "[1] 5885   59"
      ]
     },
     "metadata": {},
     "output_type": "display_data"
    }
   ],
   "source": [
    "dim(test1)\n"
   ]
  },
  {
   "cell_type": "markdown",
   "metadata": {},
   "source": [
    "### Remove identification only variables (column 1 to 5)\n"
   ]
  },
  {
   "cell_type": "code",
   "execution_count": 15,
   "metadata": {},
   "outputs": [
    {
     "data": {
      "text/html": [
       "<ol class=list-inline>\n",
       "\t<li>13737</li>\n",
       "\t<li>54</li>\n",
       "</ol>\n"
      ],
      "text/latex": [
       "\\begin{enumerate*}\n",
       "\\item 13737\n",
       "\\item 54\n",
       "\\end{enumerate*}\n"
      ],
      "text/markdown": [
       "1. 13737\n",
       "2. 54\n",
       "\n",
       "\n"
      ],
      "text/plain": [
       "[1] 13737    54"
      ]
     },
     "metadata": {},
     "output_type": "display_data"
    }
   ],
   "source": [
    "train1 <- train1[, -(1:5)]\n",
    "test1  <- test1[, -(1:5)]\n",
    "dim(train1)"
   ]
  },
  {
   "cell_type": "code",
   "execution_count": 16,
   "metadata": {},
   "outputs": [
    {
     "data": {
      "text/html": [
       "<ol class=list-inline>\n",
       "\t<li>5885</li>\n",
       "\t<li>54</li>\n",
       "</ol>\n"
      ],
      "text/latex": [
       "\\begin{enumerate*}\n",
       "\\item 5885\n",
       "\\item 54\n",
       "\\end{enumerate*}\n"
      ],
      "text/markdown": [
       "1. 5885\n",
       "2. 54\n",
       "\n",
       "\n"
      ],
      "text/plain": [
       "[1] 5885   54"
      ]
     },
     "metadata": {},
     "output_type": "display_data"
    }
   ],
   "source": [
    "dim(test1)\n"
   ]
  },
  {
   "cell_type": "markdown",
   "metadata": {},
   "source": [
    "Please note - By cleaning the data above, the number of variables has been reduced to 54"
   ]
  },
  {
   "cell_type": "code",
   "execution_count": 17,
   "metadata": {},
   "outputs": [
    {
     "name": "stderr",
     "output_type": "stream",
     "text": [
      "Warning message:\n",
      "\"package 'corrplot' was built under R version 3.4.2\""
     ]
    }
   ],
   "source": [
    "library(corrplot)\n"
   ]
  },
  {
   "cell_type": "code",
   "execution_count": 18,
   "metadata": {},
   "outputs": [
    {
     "data": {
      "image/png": "[encoded data removed]",
      "text/plain": [
       "Plot with title \"\""
      ]
     },
     "metadata": {},
     "output_type": "display_data",
     "source": "R display func"
    }
   ],
   "source": [
    "corMatrix <- cor(train1[, -54])\n",
    "corrplot(corMatrix, order = \"FPC\", method = \"color\", type = \"lower\", tl.cex = 0.8, tl.col = rgb(0, 0, 0))"
   ]
  },
  {
   "cell_type": "markdown",
   "metadata": {},
   "source": [
    "## Data Analysis"
   ]
  },
  {
   "cell_type": "markdown",
   "metadata": {},
   "source": [
    "### Prediction with Decision Tree\n"
   ]
  },
  {
   "cell_type": "code",
   "execution_count": 19,
   "metadata": {},
   "outputs": [],
   "source": [
    "library(rpart)\n"
   ]
  },
  {
   "cell_type": "code",
   "execution_count": 20,
   "metadata": {},
   "outputs": [
    {
     "name": "stderr",
     "output_type": "stream",
     "text": [
      "Warning message:\n",
      "\"package 'rpart.plot' was built under R version 3.4.2\""
     ]
    }
   ],
   "source": [
    "library(rpart.plot)\n"
   ]
  },
  {
   "cell_type": "code",
   "execution_count": 21,
   "metadata": {},
   "outputs": [],
   "source": [
    "library(RColorBrewer)\n"
   ]
  },
  {
   "cell_type": "code",
   "execution_count": 22,
   "metadata": {},
   "outputs": [
    {
     "name": "stderr",
     "output_type": "stream",
     "text": [
      "Warning message:\n",
      "\"package 'rattle' was built under R version 3.4.2\"Rattle: A free graphical interface for data science with R.\n",
      "Version 5.1.0 Copyright (c) 2006-2017 Togaware Pty Ltd.\n",
      "Type 'rattle()' to shake, rattle, and roll your data.\n"
     ]
    }
   ],
   "source": [
    "library(rattle)"
   ]
  },
  {
   "cell_type": "code",
   "execution_count": 23,
   "metadata": {},
   "outputs": [],
   "source": [
    "library(knitr)\n"
   ]
  },
  {
   "cell_type": "code",
   "execution_count": 24,
   "metadata": {},
   "outputs": [
    {
     "data": {
      "text/plain": [
       "Confusion Matrix and Statistics\n",
       "\n",
       "          Reference\n",
       "Prediction    A    B    C    D    E\n",
       "         A 1530  269   51   79   16\n",
       "         B   35  575   31   25   68\n",
       "         C   17   73  743   68   84\n",
       "         D   39  146  130  702  128\n",
       "         E   53   76   71   90  786\n",
       "\n",
       "Overall Statistics\n",
       "                                         \n",
       "               Accuracy : 0.7368         \n",
       "                 95% CI : (0.7253, 0.748)\n",
       "    No Information Rate : 0.2845         \n",
       "    P-Value [Acc > NIR] : < 2.2e-16      \n",
       "                                         \n",
       "                  Kappa : 0.6656         \n",
       " Mcnemar's Test P-Value : < 2.2e-16      \n",
       "\n",
       "Statistics by Class:\n",
       "\n",
       "                     Class: A Class: B Class: C Class: D Class: E\n",
       "Sensitivity            0.9140  0.50483   0.7242   0.7282   0.7264\n",
       "Specificity            0.9014  0.96650   0.9502   0.9100   0.9396\n",
       "Pos Pred Value         0.7866  0.78338   0.7543   0.6131   0.7305\n",
       "Neg Pred Value         0.9635  0.89051   0.9422   0.9447   0.9384\n",
       "Prevalence             0.2845  0.19354   0.1743   0.1638   0.1839\n",
       "Detection Rate         0.2600  0.09771   0.1263   0.1193   0.1336\n",
       "Detection Prevalence   0.3305  0.12472   0.1674   0.1946   0.1828\n",
       "Balanced Accuracy      0.9077  0.73566   0.8372   0.8191   0.8330"
      ]
     },
     "metadata": {},
     "output_type": "display_data"
    }
   ],
   "source": [
    "set.seed(12345)\n",
    "\n",
    "modFit1 <- rpart(classe ~ ., data= train1, method = \"class\")\n",
    "\n",
    "prediction1 <- predict(modFit1, test1, type= \"class\")\n",
    "cmtree <- confusionMatrix(prediction1, test1$classe)\n",
    "cmtree"
   ]
  },
  {
   "cell_type": "code",
   "execution_count": 25,
   "metadata": {},
   "outputs": [
    {
     "name": "stderr",
     "output_type": "stream",
     "text": [
      "Warning message:\n",
      "\"labs do not fit even at cex 0.15, there may be some overplotting\""
     ]
    },
    {
     "data": {
      "image/png": "[encoded data removed]",
      "text/plain": [
       "Plot with title \"\""
      ]
     },
     "metadata": {},
     "output_type": "display_data",
     "source": "R display func"
    }
   ],
   "source": [
    "## Fit the model after preprocessing\n",
    "modFit2 <- train(classe ~ ., data= train1, method = \"rpart\", preProcess = c(\"center\", \"scale\"))\n",
    "\n",
    "fancyRpartPlot(modFit1)"
   ]
  },
  {
   "cell_type": "code",
   "execution_count": 26,
   "metadata": {},
   "outputs": [
    {
     "data": {
      "image/png": "[encoded data removed]",
      "text/plain": [
       "Plot with title \"Decision Tree Confusion Matrix:Accuracy= 0.7368\""
      ]
     },
     "metadata": {},
     "output_type": "display_data",
     "source": "R display func"
    }
   ],
   "source": [
    "plot(cmtree$table, col= cmtree$byClass, main= paste(\"Decision Tree Confusion Matrix:Accuracy=\", round(cmtree$overall['Accuracy'],4)))"
   ]
  },
  {
   "cell_type": "markdown",
   "metadata": {},
   "source": [
    "Decision tree has a prediction accuracy of 0.7368.\n",
    "\n",
    "The accuracy of the decision tree models is not good at all. The accuracy is 73%. Preprocessing the data did not help the performance of the regression tree based on predictions. Random Forest can help us now here\n"
   ]
  },
  {
   "cell_type": "markdown",
   "metadata": {},
   "source": [
    "## Prediction with Random Forest"
   ]
  },
  {
   "cell_type": "markdown",
   "metadata": {},
   "source": [
    "We fit a predictive model for activity recognition using Random Forest algorithm because it automatically selects important variables and is robust to correlated covariates & outliers in general."
   ]
  },
  {
   "cell_type": "code",
   "execution_count": 27,
   "metadata": {},
   "outputs": [
    {
     "name": "stderr",
     "output_type": "stream",
     "text": [
      "randomForest 4.6-12\n",
      "Type rfNews() to see new features/changes/bug fixes.\n",
      "\n",
      "Attaching package: 'randomForest'\n",
      "\n",
      "The following object is masked from 'package:rattle':\n",
      "\n",
      "    importance\n",
      "\n",
      "The following object is masked from 'package:ggplot2':\n",
      "\n",
      "    margin\n",
      "\n"
     ]
    }
   ],
   "source": [
    "library(randomForest)\n"
   ]
  },
  {
   "cell_type": "markdown",
   "metadata": {},
   "source": [
    "The default number of trees( 100) gives a reasonable tradeoff training time and accuracy time."
   ]
  },
  {
   "cell_type": "code",
   "execution_count": 28,
   "metadata": {},
   "outputs": [
    {
     "data": {
      "image/png": "[encoded data removed]",
      "text/plain": [
       "plot without title"
      ]
     },
     "metadata": {},
     "output_type": "display_data",
     "source": "R display func"
    }
   ],
   "source": [
    "set.seed(12345)\n",
    "fitModel <- randomForest(classe ~ ., data= train1,importance= TRUE, ntree= 100)\n",
    "varImpPlot(fitModel)"
   ]
  },
  {
   "cell_type": "markdown",
   "metadata": {},
   "source": [
    "Since the Random Forests yielded better Results with 0.9962, we will apply the random forest model to the test"
   ]
  },
  {
   "cell_type": "markdown",
   "metadata": {},
   "source": [
    "## Applying the Model to the Test Dataset"
   ]
  },
  {
   "cell_type": "markdown",
   "metadata": {},
   "source": [
    "### Prediction on Test dataset\n"
   ]
  },
  {
   "cell_type": "code",
   "execution_count": 29,
   "metadata": {},
   "outputs": [
    {
     "data": {
      "text/plain": [
       "Confusion Matrix and Statistics\n",
       "\n",
       "          Reference\n",
       "Prediction    A    B    C    D    E\n",
       "         A 1674    6    0    0    0\n",
       "         B    0 1132    8    0    0\n",
       "         C    0    1 1018   14    0\n",
       "         D    0    0    0  950    2\n",
       "         E    0    0    0    0 1080\n",
       "\n",
       "Overall Statistics\n",
       "                                          \n",
       "               Accuracy : 0.9947          \n",
       "                 95% CI : (0.9925, 0.9964)\n",
       "    No Information Rate : 0.2845          \n",
       "    P-Value [Acc > NIR] : < 2.2e-16       \n",
       "                                          \n",
       "                  Kappa : 0.9933          \n",
       " Mcnemar's Test P-Value : NA              \n",
       "\n",
       "Statistics by Class:\n",
       "\n",
       "                     Class: A Class: B Class: C Class: D Class: E\n",
       "Sensitivity            1.0000   0.9939   0.9922   0.9855   0.9982\n",
       "Specificity            0.9986   0.9983   0.9969   0.9996   1.0000\n",
       "Pos Pred Value         0.9964   0.9930   0.9855   0.9979   1.0000\n",
       "Neg Pred Value         1.0000   0.9985   0.9984   0.9972   0.9996\n",
       "Prevalence             0.2845   0.1935   0.1743   0.1638   0.1839\n",
       "Detection Rate         0.2845   0.1924   0.1730   0.1614   0.1835\n",
       "Detection Prevalence   0.2855   0.1937   0.1755   0.1618   0.1835\n",
       "Balanced Accuracy      0.9993   0.9961   0.9946   0.9925   0.9991"
      ]
     },
     "metadata": {},
     "output_type": "display_data"
    }
   ],
   "source": [
    "predictions <- predict(fitModel, test1, type= \"class\")\n",
    "\n",
    "confusions <- confusionMatrix(predictions, test1$classe )\n",
    "confusions"
   ]
  },
  {
   "cell_type": "markdown",
   "metadata": {},
   "source": [
    "### Using the Random Forest model to apply to predict the 20 quiz results (testing datasets) as shown below"
   ]
  },
  {
   "cell_type": "code",
   "execution_count": 30,
   "metadata": {},
   "outputs": [
    {
     "data": {
      "text/html": [
       "<dl class=dl-horizontal>\n",
       "\t<dt>1</dt>\n",
       "\t\t<dd>B</dd>\n",
       "\t<dt>2</dt>\n",
       "\t\t<dd>A</dd>\n",
       "\t<dt>3</dt>\n",
       "\t\t<dd>B</dd>\n",
       "\t<dt>4</dt>\n",
       "\t\t<dd>A</dd>\n",
       "\t<dt>5</dt>\n",
       "\t\t<dd>A</dd>\n",
       "\t<dt>6</dt>\n",
       "\t\t<dd>E</dd>\n",
       "\t<dt>7</dt>\n",
       "\t\t<dd>D</dd>\n",
       "\t<dt>8</dt>\n",
       "\t\t<dd>B</dd>\n",
       "\t<dt>9</dt>\n",
       "\t\t<dd>A</dd>\n",
       "\t<dt>10</dt>\n",
       "\t\t<dd>A</dd>\n",
       "\t<dt>11</dt>\n",
       "\t\t<dd>B</dd>\n",
       "\t<dt>12</dt>\n",
       "\t\t<dd>C</dd>\n",
       "\t<dt>13</dt>\n",
       "\t\t<dd>B</dd>\n",
       "\t<dt>14</dt>\n",
       "\t\t<dd>A</dd>\n",
       "\t<dt>15</dt>\n",
       "\t\t<dd>E</dd>\n",
       "\t<dt>16</dt>\n",
       "\t\t<dd>E</dd>\n",
       "\t<dt>17</dt>\n",
       "\t\t<dd>A</dd>\n",
       "\t<dt>18</dt>\n",
       "\t\t<dd>B</dd>\n",
       "\t<dt>19</dt>\n",
       "\t\t<dd>B</dd>\n",
       "\t<dt>20</dt>\n",
       "\t\t<dd>B</dd>\n",
       "</dl>\n"
      ],
      "text/latex": [
       "\\begin{description*}\n",
       "\\item[1] B\n",
       "\\item[2] A\n",
       "\\item[3] B\n",
       "\\item[4] A\n",
       "\\item[5] A\n",
       "\\item[6] E\n",
       "\\item[7] D\n",
       "\\item[8] B\n",
       "\\item[9] A\n",
       "\\item[10] A\n",
       "\\item[11] B\n",
       "\\item[12] C\n",
       "\\item[13] B\n",
       "\\item[14] A\n",
       "\\item[15] E\n",
       "\\item[16] E\n",
       "\\item[17] A\n",
       "\\item[18] B\n",
       "\\item[19] B\n",
       "\\item[20] B\n",
       "\\end{description*}\n"
      ],
      "text/markdown": [
       "1\n",
       ":   B2\n",
       ":   A3\n",
       ":   B4\n",
       ":   A5\n",
       ":   A6\n",
       ":   E7\n",
       ":   D8\n",
       ":   B9\n",
       ":   A10\n",
       ":   A11\n",
       ":   B12\n",
       ":   C13\n",
       ":   B14\n",
       ":   A15\n",
       ":   E16\n",
       ":   E17\n",
       ":   A18\n",
       ":   B19\n",
       ":   B20\n",
       ":   B\n",
       "\n"
      ],
      "text/plain": [
       " 1  2  3  4  5  6  7  8  9 10 11 12 13 14 15 16 17 18 19 20 \n",
       " B  A  B  A  A  E  D  B  A  A  B  C  B  A  E  E  A  B  B  B \n",
       "Levels: A B C D E"
      ]
     },
     "metadata": {},
     "output_type": "display_data"
    }
   ],
   "source": [
    "predictRandForest <- predict(fitModel, newdata=testing)\n",
    "predictRandForest"
   ]
  },
  {
   "cell_type": "markdown",
   "metadata": {},
   "source": [
    "### Plot of random Forest\n"
   ]
  },
  {
   "cell_type": "code",
   "execution_count": 31,
   "metadata": {},
   "outputs": [
    {
     "data": {
      "image/png": "[encoded data removed]",
      "text/plain": [
       "Plot with title \"fitModel\""
      ]
     },
     "metadata": {},
     "output_type": "display_data",
     "source": "R display func"
    }
   ],
   "source": [
    "plot(fitModel)\n"
   ]
  },
  {
   "cell_type": "code",
   "execution_count": 32,
   "metadata": {},
   "outputs": [
    {
     "data": {
      "image/png": "[encoded data removed]",
      "text/plain": [
       "Plot with title \"Random Forest Confusion Matrix:Accuracy= 0.9947\""
      ]
     },
     "metadata": {},
     "output_type": "display_data",
     "source": "R display func"
    }
   ],
   "source": [
    "plot(confusions$table, col = confusions$byClass, main= paste(\"Random Forest Confusion Matrix:Accuracy=\", round(confusions$overall['Accuracy'], 4)))\n"
   ]
  },
  {
   "cell_type": "markdown",
   "metadata": {},
   "source": [
    "## Prediction with Generalized Boosted Regression"
   ]
  },
  {
   "cell_type": "code",
   "execution_count": 33,
   "metadata": {},
   "outputs": [
    {
     "name": "stderr",
     "output_type": "stream",
     "text": [
      "Loading required package: gbm\n",
      "Warning message:\n",
      "\"package 'gbm' was built under R version 3.4.2\"Loading required package: survival\n",
      "\n",
      "Attaching package: 'survival'\n",
      "\n",
      "The following object is masked from 'package:caret':\n",
      "\n",
      "    cluster\n",
      "\n",
      "Loading required package: splines\n",
      "Loading required package: parallel\n",
      "Loaded gbm 2.1.3\n",
      "Loading required package: plyr\n"
     ]
    }
   ],
   "source": [
    "set.seed(12345)\n",
    "fitControl <- trainControl(method = \"repeatedcv\",\n",
    "                           number = 5,\n",
    "                           repeats = 1)\n",
    "\n",
    "gbmFit <- train(classe~ ., data= train1, method = \"gbm\", trControl = fitControl, verbose= FALSE)"
   ]
  },
  {
   "cell_type": "code",
   "execution_count": 34,
   "metadata": {},
   "outputs": [
    {
     "data": {
      "text/plain": [
       "Confusion Matrix and Statistics\n",
       "\n",
       "          Reference\n",
       "Prediction    A    B    C    D    E\n",
       "         A 1670    9    0    3    0\n",
       "         B    2 1117   20    2    1\n",
       "         C    0   11 1004   14    3\n",
       "         D    1    2    2  944   11\n",
       "         E    1    0    0    1 1067\n",
       "\n",
       "Overall Statistics\n",
       "                                          \n",
       "               Accuracy : 0.9859          \n",
       "                 95% CI : (0.9825, 0.9888)\n",
       "    No Information Rate : 0.2845          \n",
       "    P-Value [Acc > NIR] : < 2.2e-16       \n",
       "                                          \n",
       "                  Kappa : 0.9822          \n",
       " Mcnemar's Test P-Value : NA              \n",
       "\n",
       "Statistics by Class:\n",
       "\n",
       "                     Class: A Class: B Class: C Class: D Class: E\n",
       "Sensitivity            0.9976   0.9807   0.9786   0.9793   0.9861\n",
       "Specificity            0.9972   0.9947   0.9942   0.9967   0.9996\n",
       "Pos Pred Value         0.9929   0.9781   0.9729   0.9833   0.9981\n",
       "Neg Pred Value         0.9990   0.9954   0.9955   0.9959   0.9969\n",
       "Prevalence             0.2845   0.1935   0.1743   0.1638   0.1839\n",
       "Detection Rate         0.2838   0.1898   0.1706   0.1604   0.1813\n",
       "Detection Prevalence   0.2858   0.1941   0.1754   0.1631   0.1816\n",
       "Balanced Accuracy      0.9974   0.9877   0.9864   0.9880   0.9929"
      ]
     },
     "metadata": {},
     "output_type": "display_data"
    }
   ],
   "source": [
    "gbmFinMod1 <- gbmFit$finalModel\n",
    "\n",
    "gbmPredTest <- predict(gbmFit, newdata= test1)\n",
    "\n",
    "gbmAccuracyTest <- confusionMatrix(gbmPredTest, test1$classe)\n",
    "gbmAccuracyTest"
   ]
  },
  {
   "cell_type": "markdown",
   "metadata": {},
   "source": [
    "### Generalized Boosted Regression has prediction of 0.987\n"
   ]
  },
  {
   "cell_type": "code",
   "execution_count": 36,
   "metadata": {},
   "outputs": [
    {
     "data": {},
     "metadata": {},
     "output_type": "display_data"
    },
    {
     "data": {
      "image/png": "[encoded data removed]",
      "text/plain": [
       "plot without title"
      ]
     },
     "metadata": {},
     "output_type": "display_data",
     "source": "R display func"
    }
   ],
   "source": [
    "plot(gbmFit, ylim= c(0.9, 1))\n"
   ]
  },
  {
   "cell_type": "markdown",
   "metadata": {},
   "source": [
    "### Prediction with Linear Discriminant Analysis"
   ]
  },
  {
   "cell_type": "markdown",
   "metadata": {},
   "source": [
    "We will test the Linear Discriminant Analysis in accurately predicting the testing data. This assumes that the data follow a probablistic model."
   ]
  },
  {
   "cell_type": "code",
   "execution_count": 37,
   "metadata": {},
   "outputs": [
    {
     "name": "stderr",
     "output_type": "stream",
     "text": [
      "Loading required package: MASS\n"
     ]
    }
   ],
   "source": [
    "set.seed(2127)\n",
    "\n",
    "modFitLDA <- train(classe ~., data= train1, method = \"lda\")"
   ]
  },
  {
   "cell_type": "code",
   "execution_count": 38,
   "metadata": {},
   "outputs": [
    {
     "data": {
      "text/plain": [
       "Confusion Matrix and Statistics\n",
       "\n",
       "          Reference\n",
       "Prediction    A    B    C    D    E\n",
       "         A 1404  168   92   52   44\n",
       "         B   39  728   99   47  166\n",
       "         C  110  146  655  133   89\n",
       "         D  112   45  144  694  103\n",
       "         E    9   52   36   38  680\n",
       "\n",
       "Overall Statistics\n",
       "                                          \n",
       "               Accuracy : 0.7071          \n",
       "                 95% CI : (0.6952, 0.7187)\n",
       "    No Information Rate : 0.2845          \n",
       "    P-Value [Acc > NIR] : < 2.2e-16       \n",
       "                                          \n",
       "                  Kappa : 0.6291          \n",
       " Mcnemar's Test P-Value : < 2.2e-16       \n",
       "\n",
       "Statistics by Class:\n",
       "\n",
       "                     Class: A Class: B Class: C Class: D Class: E\n",
       "Sensitivity            0.8387   0.6392   0.6384   0.7199   0.6285\n",
       "Specificity            0.9155   0.9260   0.9016   0.9179   0.9719\n",
       "Pos Pred Value         0.7977   0.6747   0.5781   0.6321   0.8344\n",
       "Neg Pred Value         0.9345   0.9145   0.9219   0.9436   0.9207\n",
       "Prevalence             0.2845   0.1935   0.1743   0.1638   0.1839\n",
       "Detection Rate         0.2386   0.1237   0.1113   0.1179   0.1155\n",
       "Detection Prevalence   0.2991   0.1833   0.1925   0.1866   0.1385\n",
       "Balanced Accuracy      0.8771   0.7826   0.7700   0.8189   0.8002"
      ]
     },
     "metadata": {},
     "output_type": "display_data"
    }
   ],
   "source": [
    "predictLDA <- predict(modFitLDA, newdata= test1)\n",
    "\n",
    "confusionMatrix(predictLDA, test1$classe)"
   ]
  },
  {
   "cell_type": "markdown",
   "metadata": {},
   "source": [
    "### Predicting Results on the Test Data"
   ]
  },
  {
   "cell_type": "markdown",
   "metadata": {},
   "source": [
    "#### The accuracy of the 4 regression modelling methods above are:\n",
    "1. Random Forest: 0.9947\n",
    "2. Decision Tree: 0.7368\n",
    "3. GBM: 0.9839\n",
    "4. LDA: 0.7071\n",
    "Random Forests gave the best accuracy in my Testing dataset of 99.62% out of the four prediction models. THis is more accurate than Decision Tree of 79.58%, Generalized Boosted Regression of 98.7%, and the Linear Discriminant Analysis LDA of 70.71%."
   ]
  },
  {
   "cell_type": "markdown",
   "metadata": {},
   "source": [
    "Thanks - Rajesh Singh"
   ]
  },
  {
   "cell_type": "code",
   "execution_count": null,
   "metadata": {},
   "outputs": [],
   "source": []
  }
 ],
 "metadata": {
  "kernelspec": {
   "display_name": "R",
   "language": "R",
   "name": "ir"
  },
  "language_info": {
   "codemirror_mode": "r",
   "file_extension": ".r",
   "mimetype": "text/x-r-source",
   "name": "R",
   "pygments_lexer": "r",
   "version": "3.4.1"
  }
 },
 "nbformat": 4,
 "nbformat_minor": 2
}
